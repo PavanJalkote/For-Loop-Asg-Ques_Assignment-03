{
 "cells": [
  {
   "cell_type": "markdown",
   "id": "040adca9",
   "metadata": {},
   "source": [
    "Basic Level:"
   ]
  },
  {
   "cell_type": "markdown",
   "id": "ee6fae9f",
   "metadata": {},
   "source": [
    "1. Write a Python program to print the numbers from 1 to 10 using a `for` loop."
   ]
  },
  {
   "cell_type": "code",
   "execution_count": 1,
   "id": "caa012a3",
   "metadata": {},
   "outputs": [
    {
     "name": "stdout",
     "output_type": "stream",
     "text": [
      "1 2 3 4 5 6 7 8 9 10 "
     ]
    }
   ],
   "source": [
    "for i in range(1,11):\n",
    "    print(i, end= ' ')"
   ]
  },
  {
   "cell_type": "markdown",
   "id": "df1a4433",
   "metadata": {},
   "source": [
    "2. Create a program that calculates the sum of all numbers in a list using a `for` loop."
   ]
  },
  {
   "cell_type": "code",
   "execution_count": 12,
   "id": "dc4eea3d",
   "metadata": {},
   "outputs": [
    {
     "name": "stdout",
     "output_type": "stream",
     "text": [
      "55\n"
     ]
    }
   ],
   "source": [
    "numbers = [1,2,3,4,5,6,7,8,9,10]\n",
    "sum = 0\n",
    "\n",
    "for i in numbers:\n",
    "    sum += i\n",
    "print(sum)"
   ]
  },
  {
   "cell_type": "markdown",
   "id": "fc894714",
   "metadata": {},
   "source": [
    "3. Write a program to print the characters of a string in reverse order using a `for` loop."
   ]
  },
  {
   "cell_type": "code",
   "execution_count": 15,
   "id": "941987be",
   "metadata": {},
   "outputs": [
    {
     "name": "stdout",
     "output_type": "stream",
     "text": [
      "navaP si eman yM\n"
     ]
    }
   ],
   "source": [
    "a = 'My name is Pavan'\n",
    "\n",
    "for i in reversed(a):\n",
    "    print(i, end='')\n",
    "print()"
   ]
  },
  {
   "cell_type": "markdown",
   "id": "c0381f15",
   "metadata": {},
   "source": [
    "4. Develop a program that finds the factorial of a given number using a `for` loop."
   ]
  },
  {
   "cell_type": "code",
   "execution_count": 17,
   "id": "24c02a3d",
   "metadata": {},
   "outputs": [
    {
     "name": "stdout",
     "output_type": "stream",
     "text": [
      "The factorial of 5 is 120\n"
     ]
    }
   ],
   "source": [
    "number = int(input(\"Enter the number: \"))\n",
    "\n",
    "factorial = 1\n",
    "\n",
    "for i in range(1, number+1):\n",
    "    factorial *= i\n",
    "print(f\"The factorial of {number} is {factorial}\")"
   ]
  },
  {
   "cell_type": "markdown",
   "id": "4ea8aa85",
   "metadata": {},
   "source": [
    "5. Create a program to print the multiplication table of a given number using a `for` loop."
   ]
  },
  {
   "cell_type": "code",
   "execution_count": 18,
   "id": "3b8cdeb0",
   "metadata": {},
   "outputs": [
    {
     "name": "stdout",
     "output_type": "stream",
     "text": [
      "2 4 6 8 10 12 14 16 18 20 \n"
     ]
    }
   ],
   "source": [
    "number = int(input('Enter the number: '))\n",
    "\n",
    "for i in range(number, number+1):\n",
    "    for j in range(1,11):\n",
    "        print(i*j, end=' ')\n",
    "print()"
   ]
  },
  {
   "cell_type": "markdown",
   "id": "827187ed",
   "metadata": {},
   "source": [
    "6. Write a program that counts the number of even and odd numbers in a list using a `for` loop."
   ]
  },
  {
   "cell_type": "code",
   "execution_count": 25,
   "id": "f9abdf27",
   "metadata": {},
   "outputs": [
    {
     "name": "stdout",
     "output_type": "stream",
     "text": [
      "The number of odd number in the given list are 8\n",
      "The number of even numbers in the given list are 4\n"
     ]
    }
   ],
   "source": [
    "list = [1,5,3,9,7,8,6,10,25,36,75,39]\n",
    "even_count = 0\n",
    "odd_count = 0\n",
    "\n",
    "for i in list:\n",
    "    if i%2 == 0:\n",
    "        even_count = even_count + 1 \n",
    "    else:\n",
    "        odd_count = odd_count + 1\n",
    "\n",
    "\n",
    "print(f'The number of odd number in the given list are {odd_count}')\n",
    "print(f'The number of even numbers in the given list are {even_count}')"
   ]
  },
  {
   "cell_type": "markdown",
   "id": "11dfe511",
   "metadata": {},
   "source": [
    "7. Develop a program that prints the squares of numbers from 1 to 5 using a `for` loop."
   ]
  },
  {
   "cell_type": "code",
   "execution_count": 27,
   "id": "30c2bfa8",
   "metadata": {},
   "outputs": [
    {
     "name": "stdout",
     "output_type": "stream",
     "text": [
      "1 1\n",
      "2 4\n",
      "3 9\n",
      "4 16\n",
      "5 25\n"
     ]
    }
   ],
   "source": [
    "for i in range(1,6):\n",
    "    print(i, i**2)"
   ]
  },
  {
   "cell_type": "markdown",
   "id": "af9edce5",
   "metadata": {},
   "source": [
    "8. Create a program to find the length of a string without using the `len()` function."
   ]
  },
  {
   "cell_type": "code",
   "execution_count": 29,
   "id": "e7b45f10",
   "metadata": {},
   "outputs": [
    {
     "name": "stdout",
     "output_type": "stream",
     "text": [
      "14\n"
     ]
    }
   ],
   "source": [
    "a = 'My name is Ram'\n",
    "count = 0\n",
    "\n",
    "for i in a:\n",
    "    count = count + 1\n",
    "print(count)"
   ]
  },
  {
   "cell_type": "markdown",
   "id": "8c573297",
   "metadata": {},
   "source": [
    "9. Write a program that calculates the average of a list of numbers using a `for` loop."
   ]
  },
  {
   "cell_type": "code",
   "execution_count": 30,
   "id": "f5437448",
   "metadata": {},
   "outputs": [
    {
     "name": "stdout",
     "output_type": "stream",
     "text": [
      "The average of given list is 18.666666666666668\n"
     ]
    }
   ],
   "source": [
    "list = [1,5,3,9,7,8,6,10,25,36,75,39]\n",
    "sum = 0\n",
    "average = 0\n",
    "\n",
    "for i in list:\n",
    "    sum = sum + i\n",
    "average = sum / len(list)\n",
    "\n",
    "print(f'The average of given list is {average}')"
   ]
  },
  {
   "cell_type": "markdown",
   "id": "a30d32d0",
   "metadata": {},
   "source": [
    "10. Develop a program that prints the first `n` Fibonacci numbers using a `for` loop."
   ]
  },
  {
   "cell_type": "code",
   "execution_count": 32,
   "id": "0067e041",
   "metadata": {},
   "outputs": [
    {
     "name": "stdout",
     "output_type": "stream",
     "text": [
      "Fibonacci Sequence:\n",
      "0 1 1 2 3 5 8 13 21 34 "
     ]
    }
   ],
   "source": [
    "a = int(input('Enter the number of Fibonacci numbers to generate: '))\n",
    "\n",
    "fibonacci_sequence = [0,1]\n",
    "\n",
    "for i in range(2,a):\n",
    "    next_fibonacci = fibonacci_sequence[i - 1] + fibonacci_sequence[i - 2]\n",
    "    fibonacci_sequence.append(next_fibonacci)\n",
    "print(\"Fibonacci Sequence:\")\n",
    "for number in fibonacci_sequence[:a]:\n",
    "    print(number, end=\" \")"
   ]
  },
  {
   "cell_type": "markdown",
   "id": "42a051b4",
   "metadata": {},
   "source": [
    "Intermediate Level:"
   ]
  },
  {
   "cell_type": "markdown",
   "id": "9ff08df1",
   "metadata": {},
   "source": [
    "11. Write a program to check if a given list contains any duplicates using a `for` loop."
   ]
  },
  {
   "cell_type": "code",
   "execution_count": 37,
   "id": "11137765",
   "metadata": {},
   "outputs": [
    {
     "name": "stdout",
     "output_type": "stream",
     "text": [
      "The given list contains duplicates\n"
     ]
    }
   ],
   "source": [
    "list = [1,2,3,4,5,6,8,3,6,9,1,2,5,6,9]\n",
    "has_duplicates = False\n",
    "\n",
    "for i in range(len(list)):\n",
    "    for j in range(i+1, len(list)):\n",
    "        if list[i] == list[j]:\n",
    "            has_duplicates = True\n",
    "            break\n",
    "\n",
    "if has_duplicates:\n",
    "    print('The given list contains duplicates')\n",
    "else:\n",
    "    print('The given list does not contains duplicates')"
   ]
  },
  {
   "cell_type": "markdown",
   "id": "a42323a6",
   "metadata": {},
   "source": [
    "12. Create a program that prints the prime numbers in a given range using a `for` loop."
   ]
  },
  {
   "cell_type": "code",
   "execution_count": 55,
   "id": "48216c34",
   "metadata": {},
   "outputs": [
    {
     "name": "stdout",
     "output_type": "stream",
     "text": [
      "The Prime Numbers in the range are: \n",
      "2\n",
      "3\n",
      "5\n",
      "7\n"
     ]
    }
   ],
   "source": [
    "start = int(input(\"Enter the starting point of range: \"))\n",
    "end = int(input(\"Enter the ending point of range: \"))\n",
    "\n",
    "print(\"The Prime Numbers in the range are: \")\n",
    "for num in range(start, end+1):\n",
    "    if num > 1:\n",
    "       for i in range(2, num):\n",
    "           if num % i == 0:\n",
    "               break\n",
    "       else:\n",
    "           print(num)"
   ]
  },
  {
   "cell_type": "markdown",
   "id": "02fbf3b3",
   "metadata": {},
   "source": [
    "13. Develop a program that counts the number of vowels in a string using a `for` loop."
   ]
  },
  {
   "cell_type": "code",
   "execution_count": 58,
   "id": "a83e83c3",
   "metadata": {},
   "outputs": [
    {
     "name": "stdout",
     "output_type": "stream",
     "text": [
      "The given sentence is: my name is pavan\n",
      "Total number of vowels in the sentence: 5\n"
     ]
    }
   ],
   "source": [
    "sentence = input(\"Enter a sentence: \")\n",
    "\n",
    "sentence = sentence.lower()\n",
    "\n",
    "print(f'The given sentence is: {sentence}')\n",
    "\n",
    "count_a = 0\n",
    "count_e = 0\n",
    "count_i = 0\n",
    "count_o = 0\n",
    "count_u = 0\n",
    "\n",
    "for i in sentence:\n",
    "    if i == 'a':\n",
    "        count_a = count_a + 1\n",
    "    elif i == 'e':\n",
    "        count_e = count_e + 1\n",
    "    elif i == 'i':\n",
    "        count_i = count_i + 1\n",
    "    elif i == 'o':\n",
    "        count_o = count_o + 1\n",
    "    elif i == 'u':\n",
    "        count_u = count_u + 1\n",
    "\n",
    "\n",
    "total_vowels = count_a + count_e + count_i + count_o + count_u\n",
    "\n",
    "print(f\"Total number of vowels in the sentence: { total_vowels}\")"
   ]
  },
  {
   "cell_type": "markdown",
   "id": "1a86f1a8",
   "metadata": {},
   "source": [
    "14. Write a program to find the maximum element in a 2D list using a nested `for` loop."
   ]
  },
  {
   "cell_type": "code",
   "execution_count": 60,
   "id": "df856d42",
   "metadata": {},
   "outputs": [
    {
     "name": "stdout",
     "output_type": "stream",
     "text": [
      "3 94 "
     ]
    }
   ],
   "source": [
    "list = [[1,2,3], [85,64,94]]\n",
    "\n",
    "for i in range(len(list)):\n",
    "    print(max(list[i]), end=' ')"
   ]
  },
  {
   "cell_type": "markdown",
   "id": "f4477f6e",
   "metadata": {},
   "source": [
    "15. Create a program that removes all occurrences of a specific element from a list using a `for` loop."
   ]
  },
  {
   "cell_type": "code",
   "execution_count": 76,
   "id": "eeed0685",
   "metadata": {},
   "outputs": [
    {
     "name": "stdout",
     "output_type": "stream",
     "text": [
      "Original list is: [1, 2, 3, 6, 54, 7, 8, 9, 6, 3, 1, 4, 6, 2, 36, 2]\n",
      "New list after removing 2 is [1, 3, 6, 54, 7, 8, 9, 6, 3, 1, 4, 6, 36]\n"
     ]
    }
   ],
   "source": [
    "list = [1,2,3,6,54,7,8,9,6,3,1,4,6,2,36,2]\n",
    "\n",
    "new_list = []\n",
    "element_to_remove = 2\n",
    "\n",
    "for i in list:\n",
    "    if i != element_to_remove:\n",
    "        new_list.append(i)\n",
    "\n",
    "print(f\"Original list is: {list}\")\n",
    "print(f\"New list after removing {element_to_remove} is {new_list}\")\n"
   ]
  },
  {
   "cell_type": "markdown",
   "id": "73079d16",
   "metadata": {},
   "source": [
    "16. Develop a program that generates a multiplication table for numbers from 1 to 5 using a nested `for` loop."
   ]
  },
  {
   "cell_type": "code",
   "execution_count": 78,
   "id": "33de9520",
   "metadata": {},
   "outputs": [
    {
     "name": "stdout",
     "output_type": "stream",
     "text": [
      "1 2 3 4 5 6 7 8 9 10 \n",
      "2 4 6 8 10 12 14 16 18 20 \n",
      "3 6 9 12 15 18 21 24 27 30 \n",
      "4 8 12 16 20 24 28 32 36 40 \n",
      "5 10 15 20 25 30 35 40 45 50 \n"
     ]
    }
   ],
   "source": [
    "for i in range(1,6):\n",
    "    for j in range(1,11):\n",
    "        print(i*j, end= ' ')\n",
    "    print()"
   ]
  },
  {
   "cell_type": "markdown",
   "id": "3d841dd1",
   "metadata": {},
   "source": [
    "17. Write a program that converts a list of Fahrenheit temperatures to Celsius using a `for` loop."
   ]
  },
  {
   "cell_type": "code",
   "execution_count": 83,
   "id": "ad155dd1",
   "metadata": {},
   "outputs": [
    {
     "name": "stdout",
     "output_type": "stream",
     "text": [
      "The given temperature in degree celsius is: 12\n",
      "After conversion the temperature in fahrenheit is 53.6\n",
      "The given temperature in degree celsius is: 56\n",
      "After conversion the temperature in fahrenheit is 132.8\n",
      "The given temperature in degree celsius is: 89\n",
      "After conversion the temperature in fahrenheit is 192.2\n",
      "The given temperature in degree celsius is: 31\n",
      "After conversion the temperature in fahrenheit is 87.8\n",
      "The given temperature in degree celsius is: 1\n",
      "After conversion the temperature in fahrenheit is 33.8\n",
      "The given temperature in degree celsius is: 456\n",
      "After conversion the temperature in fahrenheit is 852.8\n",
      "The given temperature in degree celsius is: 89\n",
      "After conversion the temperature in fahrenheit is 192.2\n"
     ]
    }
   ],
   "source": [
    "temps = [12,56,89,31,1,456,89]\n",
    "\n",
    "for i in temps:\n",
    "    print(f\"The given temperature in degree celsius is: {i}\")\n",
    "    temp_in_fahrenheit = (i * 9/5) + 32\n",
    "    print(f\"After conversion the temperature in fahrenheit is {temp_in_fahrenheit}\")"
   ]
  },
  {
   "cell_type": "markdown",
   "id": "f7e094cb",
   "metadata": {},
   "source": [
    "18. Create a program to print the common elements from two lists using a `for` loop."
   ]
  },
  {
   "cell_type": "code",
   "execution_count": 89,
   "id": "ec397e37",
   "metadata": {},
   "outputs": [
    {
     "name": "stdout",
     "output_type": "stream",
     "text": [
      "5 6 7 8 9 "
     ]
    }
   ],
   "source": [
    "list1 = [1,2,3,4,5,6,7,8,9]\n",
    "list2 = [5,6,7,8,9,10,11,12]\n",
    "common_elements = []\n",
    "\n",
    "for i in list1:\n",
    "    for j in list2:\n",
    "        if i == j:\n",
    "            common_elements.append(i)\n",
    "for element in common_elements:\n",
    "    print(element, end=' ')\n"
   ]
  },
  {
   "cell_type": "markdown",
   "id": "68258298",
   "metadata": {},
   "source": [
    "19. Develop a program that prints the pattern of right-angled triangles using a `for` loop. Use ‘*’ to draw the pattern"
   ]
  },
  {
   "cell_type": "code",
   "execution_count": 92,
   "id": "699b129a",
   "metadata": {},
   "outputs": [
    {
     "name": "stdout",
     "output_type": "stream",
     "text": [
      "* \n",
      "* * \n",
      "* * * \n",
      "* * * * \n",
      "* * * * * \n",
      "* * * * * * \n",
      "* * * * * * * \n",
      "* * * * * * * * \n",
      "* * * * * * * * * \n",
      "* * * * * * * * * * \n"
     ]
    }
   ],
   "source": [
    "for i in range(10):\n",
    "    for j in range(i+1):\n",
    "        print('*', end=' ')\n",
    "    print()"
   ]
  },
  {
   "cell_type": "markdown",
   "id": "6408dc6a",
   "metadata": {},
   "source": [
    "20. Write a program to find the greatest common divisor (GCD) of two numbers using a `for` loop."
   ]
  },
  {
   "cell_type": "code",
   "execution_count": 95,
   "id": "0f177d8a",
   "metadata": {},
   "outputs": [
    {
     "name": "stdout",
     "output_type": "stream",
     "text": [
      "The GCD of given numbers is 33\n"
     ]
    }
   ],
   "source": [
    "num1 = int(input('Enter the first number: '))\n",
    "num2 = int(input('Enter the second number: '))\n",
    "\n",
    "min_num = min(num1, num2)\n",
    "\n",
    "gcd = 1\n",
    "\n",
    "for i in range(1, min_num+1):\n",
    "    if num1 % i == 0 and num2 % i == 0:\n",
    "        gcd = i\n",
    "\n",
    "print(f\"The GCD of given numbers is {gcd}\")"
   ]
  },
  {
   "cell_type": "markdown",
   "id": "2fa2f183",
   "metadata": {},
   "source": [
    "Advanced Level:"
   ]
  },
  {
   "cell_type": "markdown",
   "id": "424829ac",
   "metadata": {},
   "source": [
    "21. Create a program that calculates the sum of the digits of numbers in a list using a list comprehension."
   ]
  },
  {
   "cell_type": "code",
   "execution_count": 1,
   "id": "40d1d5ba",
   "metadata": {},
   "outputs": [
    {
     "name": "stdout",
     "output_type": "stream",
     "text": [
      "Number: 123, Digit Sum: 6\n",
      "Number: 45, Digit Sum: 9\n",
      "Number: 678, Digit Sum: 21\n",
      "Number: 9, Digit Sum: 9\n",
      "Number: 12, Digit Sum: 3\n"
     ]
    }
   ],
   "source": [
    "numbers = [123, 45, 678, 9, 12]\n",
    "\n",
    "def sum_of_digits(number):\n",
    "    return sum(int(digit) for digit in str(number) if digit.isdigit())\n",
    "\n",
    "digit_sums = [sum_of_digits(number) for number in numbers]\n",
    "\n",
    "for i in range(len(numbers)):\n",
    "    print(f\"Number: {numbers[i]}, Digit Sum: {digit_sums[i]}\")"
   ]
  },
  {
   "cell_type": "markdown",
   "id": "0e2aa040",
   "metadata": {},
   "source": [
    "22. Write a program to find the prime factors of a given number using a `for` loop and list comprehension."
   ]
  },
  {
   "cell_type": "code",
   "execution_count": 4,
   "id": "0d004e87",
   "metadata": {},
   "outputs": [
    {
     "ename": "KeyboardInterrupt",
     "evalue": "",
     "output_type": "error",
     "traceback": [
      "\u001b[1;31m---------------------------------------------------------------------------\u001b[0m",
      "\u001b[1;31mKeyboardInterrupt\u001b[0m                         Traceback (most recent call last)",
      "\u001b[1;32mc:\\Users\\Pavan\\Desktop\\PW Skills\\Assignment-3\\For Loop, Asg Ques_Assignment-03.ipynb Cell 47\u001b[0m line \u001b[0;36m1\n\u001b[0;32m     <a href='vscode-notebook-cell:/c%3A/Users/Pavan/Desktop/PW%20Skills/Assignment-3/For%20Loop%2C%20Asg%20Ques_Assignment-03.ipynb#X64sZmlsZQ%3D%3D?line=9'>10</a>\u001b[0m     \u001b[39mreturn\u001b[39;00m factors\n\u001b[0;32m     <a href='vscode-notebook-cell:/c%3A/Users/Pavan/Desktop/PW%20Skills/Assignment-3/For%20Loop%2C%20Asg%20Ques_Assignment-03.ipynb#X64sZmlsZQ%3D%3D?line=11'>12</a>\u001b[0m number \u001b[39m=\u001b[39m \u001b[39mint\u001b[39m(\u001b[39minput\u001b[39m(\u001b[39m\"\u001b[39m\u001b[39mEnter a number: \u001b[39m\u001b[39m\"\u001b[39m))\n\u001b[1;32m---> <a href='vscode-notebook-cell:/c%3A/Users/Pavan/Desktop/PW%20Skills/Assignment-3/For%20Loop%2C%20Asg%20Ques_Assignment-03.ipynb#X64sZmlsZQ%3D%3D?line=12'>13</a>\u001b[0m factors \u001b[39m=\u001b[39m prime_factors(number)\n\u001b[0;32m     <a href='vscode-notebook-cell:/c%3A/Users/Pavan/Desktop/PW%20Skills/Assignment-3/For%20Loop%2C%20Asg%20Ques_Assignment-03.ipynb#X64sZmlsZQ%3D%3D?line=13'>14</a>\u001b[0m \u001b[39mprint\u001b[39m(\u001b[39mf\u001b[39m\u001b[39m\"\u001b[39m\u001b[39mPrime Factors of \u001b[39m\u001b[39m{\u001b[39;00mnumber\u001b[39m}\u001b[39;00m\u001b[39m are \u001b[39m\u001b[39m{\u001b[39;00mfactors\u001b[39m}\u001b[39;00m\u001b[39m\"\u001b[39m)\n",
      "\u001b[1;32mc:\\Users\\Pavan\\Desktop\\PW Skills\\Assignment-3\\For Loop, Asg Ques_Assignment-03.ipynb Cell 47\u001b[0m line \u001b[0;36m5\n\u001b[0;32m      <a href='vscode-notebook-cell:/c%3A/Users/Pavan/Desktop/PW%20Skills/Assignment-3/For%20Loop%2C%20Asg%20Ques_Assignment-03.ipynb#X64sZmlsZQ%3D%3D?line=1'>2</a>\u001b[0m factors \u001b[39m=\u001b[39m []\n\u001b[0;32m      <a href='vscode-notebook-cell:/c%3A/Users/Pavan/Desktop/PW%20Skills/Assignment-3/For%20Loop%2C%20Asg%20Ques_Assignment-03.ipynb#X64sZmlsZQ%3D%3D?line=2'>3</a>\u001b[0m divisor \u001b[39m=\u001b[39m \u001b[39m2\u001b[39m\n\u001b[1;32m----> <a href='vscode-notebook-cell:/c%3A/Users/Pavan/Desktop/PW%20Skills/Assignment-3/For%20Loop%2C%20Asg%20Ques_Assignment-03.ipynb#X64sZmlsZQ%3D%3D?line=4'>5</a>\u001b[0m \u001b[39mwhile\u001b[39;00m n \u001b[39m>\u001b[39m \u001b[39m1\u001b[39m:\n\u001b[0;32m      <a href='vscode-notebook-cell:/c%3A/Users/Pavan/Desktop/PW%20Skills/Assignment-3/For%20Loop%2C%20Asg%20Ques_Assignment-03.ipynb#X64sZmlsZQ%3D%3D?line=5'>6</a>\u001b[0m     \u001b[39mwhile\u001b[39;00m n \u001b[39m%\u001b[39m divisor \u001b[39m==\u001b[39m \u001b[39m0\u001b[39m:\n\u001b[0;32m      <a href='vscode-notebook-cell:/c%3A/Users/Pavan/Desktop/PW%20Skills/Assignment-3/For%20Loop%2C%20Asg%20Ques_Assignment-03.ipynb#X64sZmlsZQ%3D%3D?line=6'>7</a>\u001b[0m         factors\u001b[39m.\u001b[39mappend(divisor)\n",
      "\u001b[1;31mKeyboardInterrupt\u001b[0m: "
     ]
    }
   ],
   "source": [
    "def prime_factors(n):\n",
    "    factors = []\n",
    "    divisor = 2\n",
    "\n",
    "    while n > 1:\n",
    "        while n % divisor == 0:\n",
    "            factors.append(divisor)\n",
    "            n //= divisor\n",
    "\n",
    "    return factors\n",
    "\n",
    "number = int(input(\"Enter a number: \"))\n",
    "factors = prime_factors(number)\n",
    "print(f\"Prime Factors of {number} are {factors}\")"
   ]
  },
  {
   "cell_type": "markdown",
   "id": "53639f25",
   "metadata": {},
   "source": [
    "23. Develop a program that extracts unique elements from a list and stores them in a new list using a list comprehension."
   ]
  },
  {
   "cell_type": "code",
   "execution_count": 97,
   "id": "1a6fe5f1",
   "metadata": {},
   "outputs": [
    {
     "name": "stdout",
     "output_type": "stream",
     "text": [
      "['apple', 'banana', 'mango']\n"
     ]
    }
   ],
   "source": [
    "fruits = [\"apple\", \"banana\", \"cherry\", \"kiwi\", \"mango\"]\n",
    "\n",
    "newlist = [x for x in fruits if \"a\" in x]\n",
    "\n",
    "print(newlist)"
   ]
  },
  {
   "cell_type": "markdown",
   "id": "82284a06",
   "metadata": {},
   "source": [
    "24. Create a program that generates a list of all palindromic numbers up to a specified limit using a list comprehension."
   ]
  },
  {
   "cell_type": "code",
   "execution_count": 102,
   "id": "a6af008b",
   "metadata": {},
   "outputs": [
    {
     "name": "stdout",
     "output_type": "stream",
     "text": [
      "1 2 3 4 5 6 7 8 9 11 22 33 44 55 66 77 88 99 "
     ]
    }
   ],
   "source": [
    "start = int(input('Enter the starting number of list: '))\n",
    "end = int(input('Enter the ending number of list: '))\n",
    "\n",
    "for i in range(start, end+1):\n",
    "    a = str(i)\n",
    "    if a == a[::-1]:\n",
    "        print(i, end=' ')"
   ]
  },
  {
   "cell_type": "markdown",
   "id": "be453a69",
   "metadata": {},
   "source": [
    "25. Write a program to flatten a nested list using list comprehension."
   ]
  },
  {
   "cell_type": "code",
   "execution_count": 5,
   "id": "ed019b59",
   "metadata": {},
   "outputs": [
    {
     "name": "stdout",
     "output_type": "stream",
     "text": [
      "[1, 2, 3, 4, 5, 6, 7, 8, 9]\n"
     ]
    }
   ],
   "source": [
    "nested_list = [[1, 2, 3], [4, 5], [6, 7, 8, 9]]\n",
    "\n",
    "flattened_list = [item for sublist in nested_list for item in sublist]\n",
    "\n",
    "print(flattened_list)"
   ]
  },
  {
   "cell_type": "markdown",
   "id": "207809a3",
   "metadata": {},
   "source": [
    "26. Develop a program that computes the sum of even and odd numbers in a list separately using list comprehension."
   ]
  },
  {
   "cell_type": "code",
   "execution_count": 110,
   "id": "4ad72ce4",
   "metadata": {},
   "outputs": [
    {
     "ename": "TypeError",
     "evalue": "'int' object is not callable",
     "output_type": "error",
     "traceback": [
      "\u001b[1;31m---------------------------------------------------------------------------\u001b[0m",
      "\u001b[1;31mTypeError\u001b[0m                                 Traceback (most recent call last)",
      "\u001b[1;32mc:\\Users\\Pavan\\Desktop\\PW Skills\\Assignment-3\\For Loop, Asg Ques_Assignment-03.ipynb Cell 55\u001b[0m line \u001b[0;36m9\n\u001b[0;32m      <a href='vscode-notebook-cell:/c%3A/Users/Pavan/Desktop/PW%20Skills/Assignment-3/For%20Loop%2C%20Asg%20Ques_Assignment-03.ipynb#Y311sZmlsZQ%3D%3D?line=5'>6</a>\u001b[0m     newlist1 \u001b[39m=\u001b[39m [x \u001b[39mfor\u001b[39;00m x \u001b[39min\u001b[39;00m \u001b[39mlist\u001b[39m \u001b[39mif\u001b[39;00m x \u001b[39m%\u001b[39m \u001b[39m2\u001b[39m \u001b[39m==\u001b[39m \u001b[39m0\u001b[39m] \n\u001b[0;32m      <a href='vscode-notebook-cell:/c%3A/Users/Pavan/Desktop/PW%20Skills/Assignment-3/For%20Loop%2C%20Asg%20Ques_Assignment-03.ipynb#Y311sZmlsZQ%3D%3D?line=6'>7</a>\u001b[0m     newlist2 \u001b[39m=\u001b[39m [x \u001b[39mfor\u001b[39;00m x \u001b[39min\u001b[39;00m \u001b[39mlist\u001b[39m \u001b[39mif\u001b[39;00m x \u001b[39m%\u001b[39m \u001b[39m2\u001b[39m \u001b[39m!=\u001b[39m \u001b[39m0\u001b[39m]  \n\u001b[1;32m----> <a href='vscode-notebook-cell:/c%3A/Users/Pavan/Desktop/PW%20Skills/Assignment-3/For%20Loop%2C%20Asg%20Ques_Assignment-03.ipynb#Y311sZmlsZQ%3D%3D?line=8'>9</a>\u001b[0m sum_of_even_number \u001b[39m=\u001b[39m \u001b[39msum\u001b[39m(newlist1)\n\u001b[0;32m     <a href='vscode-notebook-cell:/c%3A/Users/Pavan/Desktop/PW%20Skills/Assignment-3/For%20Loop%2C%20Asg%20Ques_Assignment-03.ipynb#Y311sZmlsZQ%3D%3D?line=9'>10</a>\u001b[0m sum_of_odd_number \u001b[39m=\u001b[39m \u001b[39msum\u001b[39m(newlist2)\n\u001b[0;32m     <a href='vscode-notebook-cell:/c%3A/Users/Pavan/Desktop/PW%20Skills/Assignment-3/For%20Loop%2C%20Asg%20Ques_Assignment-03.ipynb#Y311sZmlsZQ%3D%3D?line=11'>12</a>\u001b[0m \u001b[39mprint\u001b[39m(\u001b[39mf\u001b[39m\u001b[39m'\u001b[39m\u001b[39mThe even numbers in the given list are: \u001b[39m\u001b[39m{\u001b[39;00mnewlist1\u001b[39m}\u001b[39;00m\u001b[39m'\u001b[39m)\n",
      "\u001b[1;31mTypeError\u001b[0m: 'int' object is not callable"
     ]
    }
   ],
   "source": [
    "list = [1, 2, 3, 6, 4, 5, 99, 6, 3, 22, 5, 44, 66, 412, 35, 8, 2, 46, 21]\n",
    "sum_of_even_number = 0\n",
    "sum_of_odd_number = 0\n",
    "\n",
    "newlist1 = [x for x in list if x % 2 == 0] \n",
    "newlist2 = [x for x in list if x % 2 != 0]  \n",
    "\n",
    "sum_of_even_number = sum(newlist1)\n",
    "sum_of_odd_number = sum(newlist2)\n",
    "\n",
    "print(f'The even numbers in the given list are: {newlist1}')\n",
    "print(f'The sum of even numbers in the given list is: {sum_of_even_number}')\n",
    "\n",
    "print(f'The odd numbers in the given list are: {newlist2}')\n",
    "print(f'The sum of odd numbers in the given list is: {sum_of_odd_number}')"
   ]
  },
  {
   "cell_type": "markdown",
   "id": "5e67452e",
   "metadata": {},
   "source": [
    "27. Create a program that generates a list of squares of odd numbers between 1 and 10 using list comprehension."
   ]
  },
  {
   "cell_type": "code",
   "execution_count": 115,
   "id": "6492bc56",
   "metadata": {},
   "outputs": [
    {
     "name": "stdout",
     "output_type": "stream",
     "text": [
      "Squares of odd numbers between 1 and 10: \n",
      "[1, 9, 25, 49, 81]\n"
     ]
    }
   ],
   "source": [
    "odd_squares = [x**2 for x in range(1, 11) if x % 2 != 0]\n",
    "\n",
    "print(\"Squares of odd numbers between 1 and 10: \")\n",
    "print(odd_squares)"
   ]
  },
  {
   "cell_type": "markdown",
   "id": "5091a76d",
   "metadata": {},
   "source": [
    "28. Write a program that combines two lists into a dictionary using list comprehension."
   ]
  },
  {
   "cell_type": "code",
   "execution_count": 117,
   "id": "e1d02857",
   "metadata": {},
   "outputs": [
    {
     "name": "stdout",
     "output_type": "stream",
     "text": [
      "{'Name': 'Pavan', 'Age': '25', 'City': 'Mumbai'}\n"
     ]
    }
   ],
   "source": [
    "keys = ['Name', 'Age', 'City']\n",
    "values = ['Pavan', '25', 'Mumbai']\n",
    "\n",
    "dict = {key: value for key, value in zip(keys, values)}\n",
    "\n",
    "print(dict)"
   ]
  },
  {
   "cell_type": "markdown",
   "id": "6d11df76",
   "metadata": {},
   "source": [
    "29. Develop a program that extracts the vowels from a string and stores them in a list using list comprehension."
   ]
  },
  {
   "cell_type": "code",
   "execution_count": 121,
   "id": "61e913f1",
   "metadata": {},
   "outputs": [
    {
     "name": "stdout",
     "output_type": "stream",
     "text": [
      "The given sentence is: my name is pavan\n",
      "['a', 'e', 'i', 'a', 'a']\n"
     ]
    }
   ],
   "source": [
    "a = 'My name is Pavan'\n",
    "\n",
    "a = a.lower()\n",
    "\n",
    "print(f'The given sentence is: {a}')\n",
    "\n",
    "for i in a:\n",
    "    vowels = [i for i in a if i in 'aeiou']\n",
    "print(vowels)\n"
   ]
  },
  {
   "cell_type": "markdown",
   "id": "88b22259",
   "metadata": {},
   "source": [
    "30. Create a program that removes all non-numeric characters from a list of strings using list comprehension."
   ]
  },
  {
   "cell_type": "code",
   "execution_count": 127,
   "id": "589ca193",
   "metadata": {},
   "outputs": [
    {
     "name": "stdout",
     "output_type": "stream",
     "text": [
      "['M', 'y', ' ', 'n', 'a', 'm', 'e', ' ', 'i', 's', ' ', 'P', 'a', 'v', 'a', 'n', '.', ' ', 'M', 'y', ' ', 'n', 'u', 'm', 'b', 'e', 'r', ' ', 'i', 's', ' ', '8', '6', '6', '9', '0', '3', '9', '5', '5', '9', '.']\n"
     ]
    }
   ],
   "source": [
    "a = 'My name is Pavan. My number is 8669039559.'\n",
    "\n",
    "for i in a:\n",
    "    list = [i for i in a if i != '08669039559']\n",
    "print(list)"
   ]
  },
  {
   "cell_type": "markdown",
   "id": "6120b3bd",
   "metadata": {},
   "source": [
    "Challenge Level:"
   ]
  },
  {
   "cell_type": "markdown",
   "id": "c81c17ac",
   "metadata": {},
   "source": [
    "31. Write a program to generate a list of prime numbers using the Sieve of Eratosthenes algorithm and list comprehension."
   ]
  },
  {
   "cell_type": "markdown",
   "id": "54129635",
   "metadata": {},
   "source": [
    "32. Create a program that generates a list of all Pythagorean triplets up to a specified limit using list comprehension."
   ]
  },
  {
   "cell_type": "code",
   "execution_count": 135,
   "id": "565800ad",
   "metadata": {},
   "outputs": [
    {
     "name": "stdout",
     "output_type": "stream",
     "text": [
      "(3, 4, 5) (4, 3, 5) (5, 12, 13) (6, 8, 10) (7, 24, 25) (8, 6, 10) (8, 15, 17) (9, 12, 15) (9, 40, 41) (10, 24, 26) (12, 5, 13) (12, 9, 15) (12, 16, 20) (12, 35, 37) (14, 48, 50) (15, 8, 17) (15, 20, 25) (15, 36, 39) (16, 12, 20) (16, 30, 34) (18, 24, 30) (20, 15, 25) (20, 21, 29) (20, 48, 52) (21, 20, 29) (21, 28, 35) (24, 7, 25) (24, 10, 26) (24, 18, 30) (24, 32, 40) (24, 45, 51) (27, 36, 45) (28, 21, 35) (28, 45, 53) (30, 16, 34) (30, 40, 50) (32, 24, 40) (33, 44, 55) (35, 12, 37) (36, 15, 39) (36, 27, 45) (40, 9, 41) (40, 30, 50) (44, 33, 55) (45, 24, 51) (45, 28, 53) (48, 14, 50) (48, 20, 52) "
     ]
    }
   ],
   "source": [
    "limit = int(input(\"Enter the end number of list: \"))\n",
    "\n",
    "pythagorian_triplets = [(a,b,c) for a in range(1, limit+1) for b in range(1, limit+1) for c in range(1, limit+1) if a**2 + b**2 == c**2]\n",
    "\n",
    "for triplets in pythagorian_triplets:\n",
    "    print(triplets, end=\" \")"
   ]
  },
  {
   "cell_type": "markdown",
   "id": "afec9d17",
   "metadata": {},
   "source": [
    "33. Develop a program that generates a list of all possible combinations of two lists using list comprehension."
   ]
  },
  {
   "cell_type": "code",
   "execution_count": 136,
   "id": "a39ec287",
   "metadata": {},
   "outputs": [
    {
     "name": "stdout",
     "output_type": "stream",
     "text": [
      "All possible combinations from the two lists are as follws: \n",
      "[(1, 'a'), (1, 'b'), (1, 'c'), (1, 'd'), (1, 'e'), (1, 'f'), (2, 'a'), (2, 'b'), (2, 'c'), (2, 'd'), (2, 'e'), (2, 'f'), (3, 'a'), (3, 'b'), (3, 'c'), (3, 'd'), (3, 'e'), (3, 'f'), (4, 'a'), (4, 'b'), (4, 'c'), (4, 'd'), (4, 'e'), (4, 'f'), (5, 'a'), (5, 'b'), (5, 'c'), (5, 'd'), (5, 'e'), (5, 'f'), (6, 'a'), (6, 'b'), (6, 'c'), (6, 'd'), (6, 'e'), (6, 'f')]\n"
     ]
    }
   ],
   "source": [
    "list1 = [1,2,3,4,5,6]\n",
    "list2 = ['a', 'b', 'c', 'd', 'e', 'f']\n",
    "\n",
    "combinations = [(x,y) for  x in list1 for y in list2]\n",
    "\n",
    "print(\"All possible combinations from the two lists are as follws: \")\n",
    "print(combinations)"
   ]
  },
  {
   "cell_type": "markdown",
   "id": "b1033496",
   "metadata": {},
   "source": [
    "34. Write a program that calculates the mean, median, and mode of a list of numbers using list comprehension."
   ]
  },
  {
   "cell_type": "code",
   "execution_count": 7,
   "id": "fb14ce3b",
   "metadata": {},
   "outputs": [
    {
     "name": "stdout",
     "output_type": "stream",
     "text": [
      "Mean: 67.66666666666667\n",
      "Median: 69.0\n",
      "Mode: 36.0\n"
     ]
    }
   ],
   "source": [
    "from statistics import mean, median, mode\n",
    "\n",
    "number_list = [float(x) for x in input(\"Enter a list of numbers separated by spaces: \").split()]\n",
    "\n",
    "mean_value = mean(number_list)\n",
    "median_value = median(number_list)\n",
    "try:\n",
    "    mode_value = mode(number_list)\n",
    "except StatisticsError:\n",
    "    mode_value = \"No unique mode found\"\n",
    "\n",
    "print(f\"Mean: {mean_value}\")\n",
    "print(f\"Median: {median_value}\")\n",
    "print(f\"Mode: {mode_value}\")"
   ]
  },
  {
   "cell_type": "markdown",
   "id": "26e438a4",
   "metadata": {},
   "source": [
    "35. Create a program that generates Pascal's triangle up to a specified number of rows using list comprehension."
   ]
  },
  {
   "cell_type": "markdown",
   "id": "fc5c8d6d",
   "metadata": {},
   "source": [
    "36. Develop a program that calculates the sum of the digits of a factorial of numbers from 1 to 5 using list comprehension."
   ]
  },
  {
   "cell_type": "code",
   "execution_count": 8,
   "id": "e4bcb7f4",
   "metadata": {},
   "outputs": [
    {
     "name": "stdout",
     "output_type": "stream",
     "text": [
      "Factorial of 1 and its digit sum: 1 => 1\n",
      "Factorial of 2 and its digit sum: 2 => 2\n",
      "Factorial of 3 and its digit sum: 6 => 6\n",
      "Factorial of 4 and its digit sum: 24 => 6\n",
      "Factorial of 5 and its digit sum: 120 => 3\n"
     ]
    }
   ],
   "source": [
    "def factorial(n):\n",
    "    if n == 0:\n",
    "        return 1\n",
    "    else:\n",
    "        return n * factorial(n - 1)\n",
    "\n",
    "sum_of_digit_sums = [sum(int(digit) for digit in str(factorial(n))) for n in range(1, 6)]\n",
    "\n",
    "for n, digit_sum in enumerate(sum_of_digit_sums, start=1):\n",
    "    print(f\"Factorial of {n} and its digit sum: {factorial(n)} => {digit_sum}\")\n"
   ]
  },
  {
   "cell_type": "markdown",
   "id": "1a93ec7a",
   "metadata": {},
   "source": [
    "37. Write a program that finds the longest word in a sentence using list comprehension."
   ]
  },
  {
   "cell_type": "code",
   "execution_count": 9,
   "id": "c3a7a175",
   "metadata": {},
   "outputs": [
    {
     "name": "stdout",
     "output_type": "stream",
     "text": [
      "The longest word in the sentence is: Pavan\n"
     ]
    }
   ],
   "source": [
    "sentence = input(\"Enter a sentence: \")\n",
    "\n",
    "words = sentence.split() \n",
    "longest_word = max(words, key=lambda word: len(word))\n",
    "\n",
    "print(f\"The longest word in the sentence is: {longest_word}\")"
   ]
  },
  {
   "cell_type": "markdown",
   "id": "dfa9dbc5",
   "metadata": {},
   "source": [
    "38. Create a program that filters a list of strings to include only those with more than three vowels using list comprehension."
   ]
  },
  {
   "cell_type": "code",
   "execution_count": 10,
   "id": "366d9f8e",
   "metadata": {},
   "outputs": [
    {
     "name": "stdout",
     "output_type": "stream",
     "text": [
      "Strings with more than three vowels: ['Education']\n"
     ]
    }
   ],
   "source": [
    "def count_vowels(string):\n",
    "    vowels = \"AEIOUaeiou\"\n",
    "    return sum(1 for char in string if char in vowels)\n",
    "\n",
    "strings = [\"Hello\", \"Python\", \"Goodbye\", \"Education\", \"Programming\"]\n",
    "\n",
    "filtered_strings = [string for string in strings if count_vowels(string) > 3]\n",
    "\n",
    "print(\"Strings with more than three vowels:\", filtered_strings)"
   ]
  },
  {
   "cell_type": "markdown",
   "id": "9fbbcaa8",
   "metadata": {},
   "source": [
    "39. Develop a program that calculates the sum of the digits of numbers from 1 to 1000 using list comprehension."
   ]
  },
  {
   "cell_type": "code",
   "execution_count": 11,
   "id": "051c6846",
   "metadata": {},
   "outputs": [
    {
     "name": "stdout",
     "output_type": "stream",
     "text": [
      "Total sum of the digits of numbers from 1 to 1000: 13501\n"
     ]
    }
   ],
   "source": [
    "def sum_of_digits(n):\n",
    "    return sum(int(digit) for digit in str(n))\n",
    "\n",
    "digit_sums = [sum_of_digits(n) for n in range(1, 1001)]\n",
    "\n",
    "total_sum = sum(digit_sums)\n",
    "print(\"Total sum of the digits of numbers from 1 to 1000:\", total_sum)"
   ]
  },
  {
   "cell_type": "markdown",
   "id": "984ac588",
   "metadata": {},
   "source": [
    "40. Write a program that generates a list of prime palindromic numbers using list comprehension."
   ]
  },
  {
   "cell_type": "code",
   "execution_count": 12,
   "id": "1251a3b9",
   "metadata": {},
   "outputs": [
    {
     "name": "stdout",
     "output_type": "stream",
     "text": [
      "Prime Palindromic Numbers: [2, 3, 5, 7, 11, 101, 131, 151, 181, 191, 313, 353, 373, 383, 727, 757, 787, 797, 919, 929]\n"
     ]
    }
   ],
   "source": [
    "def is_prime(num):\n",
    "    if num <= 1:\n",
    "        return False\n",
    "    for i in range(2, int(num**0.5) + 1):\n",
    "        if num % i == 0:\n",
    "            return False\n",
    "    return True\n",
    "\n",
    "prime_palindromic_numbers = [num for num in range(2, 1000) if is_prime(num) and str(num) == str(num)[::-1]]\n",
    "\n",
    "print(\"Prime Palindromic Numbers:\", prime_palindromic_numbers)"
   ]
  }
 ],
 "metadata": {
  "kernelspec": {
   "display_name": "Python 3 (ipykernel)",
   "language": "python",
   "name": "python3"
  },
  "language_info": {
   "codemirror_mode": {
    "name": "ipython",
    "version": 3
   },
   "file_extension": ".py",
   "mimetype": "text/x-python",
   "name": "python",
   "nbconvert_exporter": "python",
   "pygments_lexer": "ipython3",
   "version": "3.11.4"
  }
 },
 "nbformat": 4,
 "nbformat_minor": 5
}
